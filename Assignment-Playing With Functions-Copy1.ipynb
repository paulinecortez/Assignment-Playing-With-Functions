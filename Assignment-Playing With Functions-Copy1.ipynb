{
 "cells": [
  {
   "cell_type": "code",
   "execution_count": null,
   "metadata": {},
   "outputs": [],
   "source": [
    "#First Problem: Write a function that takes the circumference of a circle as a parameter and returns the area of that circle. Note: Assume the value of pi is 3.1416\n",
    "\n",
    "\n",
    "def circ_to_area(circ) :\n",
    "    return (3.1416*((circ/ (2*3.1416))*(circ/ (2*3.1416))))\n",
    "\n",
    "circ = float(input(\"Enter the circumference of the circle: \"))\n",
    "\n",
    "print(\"Area is\", circ_to_area(circ))"
   ]
  },
  {
   "cell_type": "code",
   "execution_count": 17,
   "metadata": {},
   "outputs": [
    {
     "name": "stdout",
     "output_type": "stream",
     "text": [
      "Word you want to reverse? bubble\n",
      "The word you inputted backwards is elbbub\n"
     ]
    }
   ],
   "source": [
    "#Write a function that takes a 5-character string as a parameter and returns the string in reverse order.\n",
    "\n",
    "def ReverseString(word):\n",
    "    return word [::-1]\n",
    "\n",
    "word = input('Word you want to reverse? ')\n",
    "\n",
    "print(\"The word you inputted backwards is\", ReverseString(word))"
   ]
  },
  {
   "cell_type": "code",
   "execution_count": 29,
   "metadata": {},
   "outputs": [
    {
     "name": "stdout",
     "output_type": "stream",
     "text": [
      "Input a POSITIVE integer here: 5\n",
      "The sum of all positive integers smaller than and including the number itself is 15\n"
     ]
    }
   ],
   "source": [
    "#Write a function that takes a positive integer as input and returns the sum of all positive integers smaller than and including the number itself.\n",
    "\n",
    "\n",
    "numbah = float(input('Input a POSITIVE integer here: '))\n",
    "def addition(numbah) :\n",
    "    i = 0 \n",
    "    total = 0\n",
    "    if (numbah > 0) :\n",
    "        while i <= numbah :\n",
    "            total += i\n",
    "            i+=1\n",
    "        return total\n",
    "    \n",
    "    else :\n",
    "        text = \"Must be positive.\"\n",
    "        return text\n",
    "    \n",
    "print(\"The sum of all positive integers smaller than and including the number itself is\", \n",
    "addition(numbah))"
   ]
  },
  {
   "cell_type": "code",
   "execution_count": 68,
   "metadata": {},
   "outputs": [
    {
     "name": "stdout",
     "output_type": "stream",
     "text": [
      "The equation of the difference between the sums of the squares of the first one hundred natural numbers and the square of the sum is: \n",
      "25502500 - 338350 = 25164150\n"
     ]
    }
   ],
   "source": [
    "#4 Using for loops to get the difference between the sums of the squares of the first one hundred natural numbers and the square of the sum.\n",
    "\n",
    "def FinalSqaures(num):\n",
    "    return d - totalNum\n",
    "\n",
    "totalNum=0\n",
    "\n",
    "for i in range(1,101):\n",
    "    totalNum = totalNum + i**2\n",
    "    i += 1\n",
    "totalNum1 = 0\n",
    "for a in range(1,101):\n",
    "    totalNum1 = totalNum1 + a\n",
    "    a += 1\n",
    "print(\"The equation of the difference between the sums of the squares of the first one hundred natural numbers and the square of the sum is: \")\n",
    "d = totalNum1**2\n",
    "l = FinalSqaures(num)\n",
    "print(d, \"-\", totalNum,\"=\", l)"
   ]
  },
  {
   "cell_type": "code",
   "execution_count": 76,
   "metadata": {},
   "outputs": [
    {
     "name": "stdout",
     "output_type": "stream",
     "text": [
      "How much? 105\n",
      "Indicated is your exact change: \n",
      "1 peso coins: 1\n",
      "25 cent coins: 0\n",
      "10 cent coins: 0\n",
      "5 cent coins: 1\n",
      "1 cent coins: 0\n",
      "\n"
     ]
    }
   ],
   "source": [
    "#Write a function that allows a self-service Point of Sale system to give you the exact change when you pay in cash.\n",
    "\n",
    "def POS(NUM):\n",
    "    NUM = c\n",
    "    print(\"1 peso coins:\", NUM//100)\n",
    "    NUM %= 100\n",
    "    print(\"25 cent coins:\", NUM//25)\n",
    "    NUM %= 25\n",
    "    print(\"10 cent coins:\", NUM//10)\n",
    "    NUM %= 10\n",
    "    print(\"5 cent coins:\", NUM//5)\n",
    "    NUM %= 5\n",
    "    print(\"1 cent coins:\", NUM//1)\n",
    "    return \"\"\n",
    "    \n",
    "c=int(input('How much? '))\n",
    "print(\"Indicated is your exact change: \")\n",
    "print(POS(c))"
   ]
  },
  {
   "cell_type": "code",
   "execution_count": null,
   "metadata": {},
   "outputs": [],
   "source": []
  },
  {
   "cell_type": "code",
   "execution_count": null,
   "metadata": {},
   "outputs": [],
   "source": []
  }
 ],
 "metadata": {
  "kernelspec": {
   "display_name": "Python 3",
   "language": "python",
   "name": "python3"
  },
  "language_info": {
   "codemirror_mode": {
    "name": "ipython",
    "version": 3
   },
   "file_extension": ".py",
   "mimetype": "text/x-python",
   "name": "python",
   "nbconvert_exporter": "python",
   "pygments_lexer": "ipython3",
   "version": "3.8.5"
  }
 },
 "nbformat": 4,
 "nbformat_minor": 4
}
